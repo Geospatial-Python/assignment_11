{
 "cells": [
  {
   "cell_type": "code",
   "execution_count": 1,
   "metadata": {
    "collapsed": false
   },
   "outputs": [
    {
     "name": "stdout",
     "output_type": "stream",
     "text": [
      "Starting\n",
      "OrderedDict([(0.0, 0.0), (0.00052949131190439043, 0.8293349529304586), (0.0010589826238087809, 0.9416945034922563), (0.0015884739357131714, 0.9793501366535075), (0.0021179652476175617, 0.9921044640145764), (0.0026474565595219521, 0.9975706043121774), (0.0031769478714263428, 0.998177953234133), (0.0037064391833307331, 0.9990889766170665), (0.0042359304952351235, 0.9993926510780443), (0.0047654218071395138, 0.9996963255390222)])\n",
      "Finishing\n"
     ]
    }
   ],
   "source": [
    "%matplotlib inline\n",
    "\n",
    "from src.point_pattern import PointPattern\n",
    "from src.point import Point\n",
    "import pysal as ps\n",
    "import matplotlib\n",
    "import matplotlib.pyplot as plt\n",
    "import numpy as np\n",
    "\n",
    "print(\"Starting\")\n",
    "\n",
    "shapefile = ps.open(ps.examples.get_path('new_haven_merged.shp'))\n",
    "dbf = ps.open(ps.examples.get_path('new_haven_merged.dbf'))\n",
    "\n",
    "points= []\n",
    "i = 0\n",
    "for geometry, attributes in zip(shapefile, dbf):\n",
    "    i += 1\n",
    "    points.append(Point(\n",
    "            geometry[0], \n",
    "            geometry[1], \n",
    "            date=attributes[0],\n",
    "            problem=attributes[1],\n",
    "            address=attributes[2],\n",
    "            location=attributes[3],\n",
    "            time=attributes[4]))\n",
    "    '''\n",
    "    # Uncommenting this section displays the first 50 items in the files.\n",
    "    print(geometry, attributes)\n",
    "    if i == 50:\n",
    "        break\n",
    "    '''\n",
    "    \n",
    "point_pattern = PointPattern()\n",
    "for point in points:\n",
    "    point_pattern.add_point(point)\n",
    "\n",
    "dict = point_pattern.compute_g(10)\n",
    "print(dict)\n",
    "#print(sorted(dict))\n",
    "print(\"Finishing\")"
   ]
  },
  {
   "cell_type": "code",
   "execution_count": null,
   "metadata": {
    "collapsed": true
   },
   "outputs": [],
   "source": []
  }
 ],
 "metadata": {
  "kernelspec": {
   "display_name": "Python 3",
   "language": "python",
   "name": "python3"
  },
  "language_info": {
   "codemirror_mode": {
    "name": "ipython",
    "version": 3
   },
   "file_extension": ".py",
   "mimetype": "text/x-python",
   "name": "python",
   "nbconvert_exporter": "python",
   "pygments_lexer": "ipython3",
   "version": "3.5.1"
  }
 },
 "nbformat": 4,
 "nbformat_minor": 0
}
